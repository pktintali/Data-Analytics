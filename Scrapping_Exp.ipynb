{
  "nbformat": 4,
  "nbformat_minor": 0,
  "metadata": {
    "colab": {
      "provenance": [],
      "include_colab_link": true
    },
    "kernelspec": {
      "name": "python3",
      "display_name": "Python 3"
    },
    "language_info": {
      "name": "python"
    }
  },
  "cells": [
    {
      "cell_type": "markdown",
      "metadata": {
        "id": "view-in-github",
        "colab_type": "text"
      },
      "source": [
        "<a href=\"https://colab.research.google.com/github/pktintali/Data-Analytics/blob/master/Scrapping_Exp.ipynb\" target=\"_parent\"><img src=\"https://colab.research.google.com/assets/colab-badge.svg\" alt=\"Open In Colab\"/></a>"
      ]
    },
    {
      "cell_type": "markdown",
      "source": [
        "# Random Fact"
      ],
      "metadata": {
        "id": "gBr1eVo_IoES"
      }
    },
    {
      "cell_type": "code",
      "execution_count": 2,
      "metadata": {
        "id": "O52fPfqOIXyL"
      },
      "outputs": [],
      "source": [
        "import requests\n",
        "import bs4\n",
        "import json\n",
        "from bs4 import BeautifulSoup"
      ]
    },
    {
      "cell_type": "code",
      "source": [
        "rawData = requests.get('https://playgroundai.com/search?q=beautiful+lady')"
      ],
      "metadata": {
        "id": "gslNU8FIIxpq"
      },
      "execution_count": 3,
      "outputs": []
    },
    {
      "cell_type": "code",
      "source": [
        "soup = BeautifulSoup(rawData.text,'html5lib')"
      ],
      "metadata": {
        "id": "Y8TzmFHPI_bT"
      },
      "execution_count": 4,
      "outputs": []
    },
    {
      "cell_type": "code",
      "source": [
        "print(type(soup))"
      ],
      "metadata": {
        "colab": {
          "base_uri": "https://localhost:8080/"
        },
        "id": "mKT0YKg9cpTu",
        "outputId": "1bbb9a1d-3bdd-4726-9c28-c03fa22a5270"
      },
      "execution_count": 5,
      "outputs": [
        {
          "output_type": "stream",
          "name": "stdout",
          "text": [
            "<class 'bs4.BeautifulSoup'>\n"
          ]
        }
      ]
    },
    {
      "cell_type": "code",
      "source": [
        "print(soup.prettify())"
      ],
      "metadata": {
        "id": "bgR7eu3CJCwz"
      },
      "execution_count": null,
      "outputs": []
    },
    {
      "cell_type": "code",
      "source": [
        "print(type(d))"
      ],
      "metadata": {
        "colab": {
          "base_uri": "https://localhost:8080/"
        },
        "id": "rHV1_fS4RSUM",
        "outputId": "4b2e482c-772f-450a-b858-a422c99e7e4d"
      },
      "execution_count": null,
      "outputs": [
        {
          "output_type": "stream",
          "name": "stdout",
          "text": [
            "<class 'list'>\n"
          ]
        }
      ]
    },
    {
      "cell_type": "code",
      "source": [
        "a = []\n",
        "d  = soup.select('ul')\n",
        "t = d[12].select('li')\n",
        "for i in t:\n",
        "  # t = i.select('li')\n",
        "  a.append(i.text)\n",
        "print(a)"
      ],
      "metadata": {
        "id": "tRMh5hEoOnJX",
        "colab": {
          "base_uri": "https://localhost:8080/"
        },
        "outputId": "d48c253c-7cd4-44cf-b00e-885b7058231c"
      },
      "execution_count": null,
      "outputs": [
        {
          "output_type": "stream",
          "name": "stdout",
          "text": [
            "['ज़ेबरा एक पुर्तगाली भाषा का शब्द है, जिसका अर्थ जंगली गधा (Wild Donkey) होता है।', 'जेब्रा दुनिया में आज से करीब 40 लाख साल पहले आया था।', 'जेब्रा के शरीर पर बानी काली पट्टियां मनुष्य के फिंगर प्रिंट की तरह अलग अलग होती है, इन्हे इनकी पट्टियों के द्वारा भी पहचाना जा सकता है।', 'आमतौर पर जेब्रा और शतुर्मुग को एक साथ झुण्ड में देखा जा सकता है।', 'ज़ेबरा की सामान्य ऊंचाई 4.10 से 5.25 फीट के बिच होती है, और इनका वजन 776 से 992 पाउंड के बीच होता है। हालाकिं माउंटेन जेब्रा थोड़ा छोटा होता है, और इसका वजन 450 से 948 पाउंड के बीच होता है।', 'जब भी कोई अन्य जानवर ज़ेबरा पर हमला करता है, तो उसे बचाने के लिए अन्य ज़ेबरा भी आ जाते है।', 'वैसे तो जेब्रा एक सीधा साधा जानवर है, लेकिन कभी कभी यह खुद की सुरक्षा के लिए मनुष्य पर हमला भी कर देते है।', 'जब ज़ेबरा पर हमला होता है, तो यह सीधा ना दौड़कर ज़िग-ज़ैग तरीके से दौड़ता है।', 'ज़ेबरा हमेशा पानी पीने और घास खाने के लिए तैयार होते है, ज्यादातर हमने ज़ेबरा को पानी पीते हुए या घास खाते हुए देखा होगा।', 'ज़ेबरा का बच्चा जब पैदा होता है, तो उसके 20 मिनट बाद चलने लगता है।', 'जेब्रा को हम उसके कानो की स्तिथि को देखकर समझ सकते है, की वह इस समय खुश है, या दुखी है।', 'पूरी दुनिया में लगभग 750,000 जेब्रा है।', 'पूरी दुनिया में सबसे ज्यादा जेब्रा पूर्व और दक्षिणी अफ्रीका में पाए जाते है।', 'ज़ेबरा का सबसे ज्यादा शिकार उसकी खाल के लिए किया जाता है।', 'जेब्रा हर परिस्थिति में अपने दुश्मन से लड़ने के लिए तैयार रहते है।', 'यह आमतौर पर खड़े खड़े सोते है।', 'इनका सबसे ज्यादा शिकार शेर और बाघ द्वारा किया जाता है।', 'जेब्रा को नारंगी रंग नहीं दिखाई देता है।', 'जेब्रा अपने बच्चो को 2 से 3 दिन तक अपने झुण्ड से अलग रखता है, जिससे की उसके बच्चे उन्हें पहचान सके।', 'आमतौर पर ज़ेबरा शिकारी जानवरो से बचने के लिए झुण्ड में रहते है।', 'यह एक ऐसा जानवर है, जो की अपने कान को सभी दिशाओं में मोड़ लेता है।', 'ज़ेबरा आपस में एक दूसरे से बात करने के लिए इशारो का उपयोग भी करते है।', 'मुख्य रूप से ज़ेबरा की 3 प्रजातियां पायी जाती है।', 'ज़ेबरा की आयु 20 से 25 वर्ष तक होती है।', 'सड़क पर बानी सफ़ेद और काली पट्टियां जिन्हे हम ज़ेबरा क्रासिंग के नाम से जानते है, इनका नाम ज़ेबरा के शरीर पर बनी काली और सफ़ेद पट्टियों से ही लिया गया है।', 'दुनिया में बहुत सी जगह पर ज़ेबरा को घरो में भी पाला जाता है।', 'ज़ेबरा जब खाने की तालाश में निकलते है, तो इनके झुंड का मुखिया यह ख्याल रखता है, की यह खाने की तालाश करते समय पानी से दूर ना चले जाए।', 'ज़ेबरा आमतौर पर पानी के पास ही रहते है, यह ज्यादा समय तक प्यासे नहीं रह सकते है।', 'यह जानवर समूह बनाकर रहते है, जेब्रा के संह को “Dazzle” कहा जाता है।', 'ज़ेबरा के सुनने की क्षमता बहुत अधिक होती है।', 'इनकी त्वचा इन्हे लगभग 70% गर्मी से बचाती है।']\n"
          ]
        }
      ]
    },
    {
      "cell_type": "code",
      "source": [
        "data2 = soup.select('.BVG0Nb')\n",
        "for i in data2:\n",
        "  print(i)"
      ],
      "metadata": {
        "id": "14yu-MlEHcVo"
      },
      "execution_count": null,
      "outputs": []
    },
    {
      "cell_type": "code",
      "source": [
        "data = soup.select('a')\n",
        "for i in data:\n",
        "  print(i)"
      ],
      "metadata": {
        "colab": {
          "base_uri": "https://localhost:8080/"
        },
        "id": "SOxHbnk37GPW",
        "outputId": "744ff3af-8296-4cf9-d07a-93bba0ff512f"
      },
      "execution_count": null,
      "outputs": [
        {
          "output_type": "stream",
          "name": "stdout",
          "text": [
            "<a href=\"/?sa=X&amp;ved=0ahUKEwjy8t-W0t72AhVeoHIEHWgnAUoQOwgC\"><span class=\"V6gwVd\">G</span><span class=\"iWkuvd\">o</span><span class=\"cDrQ7\">o</span><span class=\"V6gwVd\">g</span><span class=\"ntlR9\">l</span><span class=\"iWkuvd tJ3Myc\">e</span></a>\n",
            "<a class=\"l\" href=\"/?output=search&amp;ie=UTF-8&amp;sa=X&amp;ved=0ahUKEwjy8t-W0t72AhVeoHIEHWgnAUoQPAgE\"><span class=\"V6gwVd\">G</span><span class=\"iWkuvd\">o</span><span class=\"cDrQ7\">o</span><span class=\"V6gwVd\">g</span><span class=\"ntlR9\">l</span><span class=\"iWkuvd tJ3Myc\">e</span></a>\n",
            "<a href=\"/search?q=There+are+fossilized+plants+in+Greenland+under+1.4+km+of+ice&amp;ie=UTF-8&amp;gbv=1&amp;sei=tVU8YrLEO97AytMP6M6E0AQ\">here</a>\n",
            "<a class=\"eZt8xd\" href=\"/search?q=There+are+fossilized+plants+in+Greenland+under+1.4+km+of+ice&amp;ie=UTF-8&amp;source=lnms&amp;tbm=shop&amp;sa=X&amp;ved=0ahUKEwjy8t-W0t72AhVeoHIEHWgnAUoQ_AUICCgB\">Shopping</a>\n",
            "<a class=\"eZt8xd\" href=\"/search?q=There+are+fossilized+plants+in+Greenland+under+1.4+km+of+ice&amp;ie=UTF-8&amp;source=lnms&amp;tbm=isch&amp;sa=X&amp;ved=0ahUKEwjy8t-W0t72AhVeoHIEHWgnAUoQ_AUICSgC\">Images</a>\n",
            "<a class=\"eZt8xd\" href=\"/search?q=There+are+fossilized+plants+in+Greenland+under+1.4+km+of+ice&amp;ie=UTF-8&amp;source=lnms&amp;tbm=nws&amp;sa=X&amp;ved=0ahUKEwjy8t-W0t72AhVeoHIEHWgnAUoQ_AUICigD\">News</a>\n",
            "<a href=\"https://maps.google.com/maps?q=There+are+fossilized+plants+in+Greenland+under+1.4+km+of+ice&amp;um=1&amp;ie=UTF-8&amp;sa=X&amp;ved=0ahUKEwjy8t-W0t72AhVeoHIEHWgnAUoQ_AUICygE\">Maps</a>\n",
            "<a href=\"/search?q=There+are+fossilized+plants+in+Greenland+under+1.4+km+of+ice&amp;ie=UTF-8&amp;source=lnms&amp;tbm=vid&amp;sa=X&amp;ved=0ahUKEwjy8t-W0t72AhVeoHIEHWgnAUoQ_AUIDCgF\">Videos</a>\n",
            "<a href=\"/search?q=There+are+fossilized+plants+in+Greenland+under+1.4+km+of+ice&amp;ie=UTF-8&amp;source=lnms&amp;tbm=bks&amp;sa=X&amp;ved=0ahUKEwjy8t-W0t72AhVeoHIEHWgnAUoQ_AUIDSgG\">Books</a>\n",
            "<a href=\"/advanced_search\" id=\"st-toggle\" role=\"button\" style=\"white-space:nowrap\">Search tools</a>\n",
            "<a href=\"/search?q=There+are+fossilized+plants+in+Greenland+under+1.4+km+of+ice&amp;ie=UTF-8&amp;source=lnt&amp;tbs=qdr:h&amp;sa=X&amp;ved=0ahUKEwjy8t-W0t72AhVeoHIEHWgnAUoQpwUIDw\">Past hour</a>\n",
            "<a href=\"/search?q=There+are+fossilized+plants+in+Greenland+under+1.4+km+of+ice&amp;ie=UTF-8&amp;source=lnt&amp;tbs=qdr:d&amp;sa=X&amp;ved=0ahUKEwjy8t-W0t72AhVeoHIEHWgnAUoQpwUIEA\">Past 24 hours</a>\n",
            "<a href=\"/search?q=There+are+fossilized+plants+in+Greenland+under+1.4+km+of+ice&amp;ie=UTF-8&amp;source=lnt&amp;tbs=qdr:w&amp;sa=X&amp;ved=0ahUKEwjy8t-W0t72AhVeoHIEHWgnAUoQpwUIEQ\">Past week</a>\n",
            "<a href=\"/search?q=There+are+fossilized+plants+in+Greenland+under+1.4+km+of+ice&amp;ie=UTF-8&amp;source=lnt&amp;tbs=qdr:m&amp;sa=X&amp;ved=0ahUKEwjy8t-W0t72AhVeoHIEHWgnAUoQpwUIEg\">Past month</a>\n",
            "<a href=\"/search?q=There+are+fossilized+plants+in+Greenland+under+1.4+km+of+ice&amp;ie=UTF-8&amp;source=lnt&amp;tbs=qdr:y&amp;sa=X&amp;ved=0ahUKEwjy8t-W0t72AhVeoHIEHWgnAUoQpwUIEw\">Past year</a>\n",
            "<a href=\"/search?q=There+are+fossilized+plants+in+Greenland+under+1.4+km+of+ice&amp;ie=UTF-8&amp;source=lnt&amp;tbs=li:1&amp;sa=X&amp;ved=0ahUKEwjy8t-W0t72AhVeoHIEHWgnAUoQpwUIFQ\">Verbatim</a>\n",
            "<a href=\"https://telanganatoday.com/wp-content/uploads/2021/04/Greenland-Ice-.jpg?sa=X&amp;ved=2ahUKEwjy8t-W0t72AhVeoHIEHWgnAUoQ_B16BAgLEAI\"><img alt=\"\" class=\"KMAGC\" data-deferred=\"1\" id=\"dimg_17\" src=\"data:image/gif;base64,R0lGODlhAQABAIAAAP///////yH5BAEKAAEALAAAAAABAAEAAAICTAEAOw==\" style=\"max-width:100%;max-height:90px\"/></a>\n",
            "<a href=\"/url?q=https://telanganatoday.com/there-are-fossilised-plants-under-greenland-ice&amp;sa=U&amp;ved=2ahUKEwjy8t-W0t72AhVeoHIEHWgnAUoQFXoECAsQBA&amp;usg=AOvVaw37Yl6ZfkF1LObqm9gflyuk\"><span><div class=\"BNeawe vvjwJb AP7Wnd\"><span class=\"UMOHqf EDgFbc\">There are fossilised plants under Greenland ice - Telangana Today</span></div></span><span><div class=\"BNeawe UPmit AP7Wnd\">telanganatoday.com › There Are Fossilised Plants Under Greenland Ice</div></span></a>\n",
            "<a href=\"https://www.google.com/url?q=https://support.google.com/websearch%3Fp%3Dfeatured_snippets%26hl%3Den-US&amp;usg=AOvVaw05Cv9U2FQuT51F3jV-sQm_\"><span class=\"uEec3 AP7Wnd\"><span class=\"xUrNXd UMOHqf\">About Featured Snippets</span></span></a>\n",
            "<a href=\"/url?q=https://newatlas.com/environment/fossilized-plants-greenland-ice-sheet/&amp;sa=U&amp;ved=2ahUKEwjy8t-W0t72AhVeoHIEHWgnAUoQFnoECAoQAg&amp;usg=AOvVaw2wDF3A05IcOtAje2ezjJmm\"><h3 class=\"zBAuLc l97dzf\"><div class=\"BNeawe vvjwJb AP7Wnd\">Fossilized plants discovered a mile beneath Greenland ice sheet</div></h3><div class=\"BNeawe UPmit AP7Wnd\">newatlas.com › environment › fossilized-plants-greenland-ice-sheet</div></a>\n",
            "<a href=\"/url?q=https://www.sciencedaily.com/releases/2021/03/210315165639.htm&amp;sa=U&amp;ved=2ahUKEwjy8t-W0t72AhVeoHIEHWgnAUoQFnoECAMQAg&amp;usg=AOvVaw2oMYQ36qdm33wxCY6GdXfa\"><h3 class=\"zBAuLc l97dzf\"><div class=\"BNeawe vvjwJb AP7Wnd\">Scientists stunned to discover plants beneath mile-deep Greenland ice</div></h3><div class=\"BNeawe UPmit AP7Wnd\">www.sciencedaily.com › releases › 2021/03</div></a>\n",
            "<a href=\"/url?q=https://www.quora.com/Did-you-know-there-are-fossilized-plants-in-Greenland-under-1-4-km-of-ice&amp;sa=U&amp;ved=2ahUKEwjy8t-W0t72AhVeoHIEHWgnAUoQFnoECAgQAg&amp;usg=AOvVaw3Q99EJoHj_QVcmh1kac-jT\"><h3 class=\"zBAuLc l97dzf\"><div class=\"BNeawe vvjwJb AP7Wnd\">Did you know there are fossilized plants in Greenland under 1.4 km ...</div></h3><div class=\"BNeawe UPmit AP7Wnd\">www.quora.com › Did-you-know-there-are-fossilized-plants-in-Greenland-...</div></a>\n",
            "<a href=\"/url?q=https://www.youtube.com/watch%3Fv%3DmwRAAtGdR6E&amp;sa=U&amp;ved=2ahUKEwjy8t-W0t72AhVeoHIEHWgnAUoQtwJ6BAgMEAE&amp;usg=AOvVaw2oQh35U1n2b0epYm2wSFMR\"><h3 class=\"zBAuLc l97dzf\"><div class=\"BNeawe vvjwJb AP7Wnd\">There are fossilized plants in Greenland under 1.4 km of ice.</div></h3><div class=\"BNeawe UPmit AP7Wnd\">www.youtube.com › watch</div></a>\n",
            "<a href=\"/url?q=https://www.youtube.com/watch%3Fv%3DmwRAAtGdR6E&amp;sa=U&amp;ved=2ahUKEwjy8t-W0t72AhVeoHIEHWgnAUoQuAJ6BAgMEAI&amp;usg=AOvVaw0Q_nguYZrhU_shVf3-q3by\"><div class=\"lcJF1d Q6Xouf G6SP0b eeoFaf\"><div style=\"width:120px;height:67px;position:static\"><img alt=\"Video for There are fossilized plants in Greenland under 1.4 km of ice\" class=\"h1hFNe\" data-deferred=\"1\" id=\"dimg_19\" src=\"data:image/gif;base64,R0lGODlhAQABAIAAAP///////yH5BAEKAAEALAAAAAABAAEAAAICTAEAOw==\" style=\"width:120px;height:67px\"/></div><div class=\"S9HcI oz9fhd\"></div><div class=\"S9HcI UhWgBb\" style=\"background-size:36px\"></div></div></a>\n",
            "<a href=\"/url?q=https://scitechdaily.com/intact-plant-fossils-discovered-beneath-greenlands-ice-sheet-after-lucky-find-of-ice-cores-drilled-by-u-s-military-in-1966/&amp;sa=U&amp;ved=2ahUKEwjy8t-W0t72AhVeoHIEHWgnAUoQFnoECAkQAg&amp;usg=AOvVaw3VYq2pzTjbe4lRWE2vHmrE\"><h3 class=\"zBAuLc l97dzf\"><div class=\"BNeawe vvjwJb AP7Wnd\">Intact Plant Fossils Discovered Beneath Greenland's Ice Sheet After ...</div></h3><div class=\"BNeawe UPmit AP7Wnd\">scitechdaily.com › intact-plant-fossils-discovered-beneath-greenlands-ice-s...</div></a>\n",
            "<a href=\"/url?q=https://earthsky.org/earth/greenland-plants-discovered-melting-ice-sheet-video/&amp;sa=U&amp;ved=2ahUKEwjy8t-W0t72AhVeoHIEHWgnAUoQFnoECAcQAg&amp;usg=AOvVaw00M3YLHqHPqMomXmubD7Gz\"><h3 class=\"zBAuLc l97dzf\"><div class=\"BNeawe vvjwJb AP7Wnd\">Scientists stunned to discover plants beneath mile-deep Greenland ice</div></h3><div class=\"BNeawe UPmit AP7Wnd\">earthsky.org › Earth</div></a>\n",
            "<a href=\"/url?q=http://www.sci-news.com/paleontology/greenland-plant-fossils-09455.html&amp;sa=U&amp;ved=2ahUKEwjy8t-W0t72AhVeoHIEHWgnAUoQFnoECAEQAg&amp;usg=AOvVaw33nujOhEiGctXyoDEMLxsZ\"><h3 class=\"zBAuLc l97dzf\"><div class=\"BNeawe vvjwJb AP7Wnd\">Geologists Find Million-Year-Old Plant Fossils Deep Beneath ...</div></h3><div class=\"BNeawe UPmit AP7Wnd\">www.sci-news.com › paleontology › greenland-plant-fossils-09455</div></a>\n",
            "<a href=\"/url?q=https://www.pnas.org/content/118/13/e2021442118&amp;sa=U&amp;ved=2ahUKEwjy8t-W0t72AhVeoHIEHWgnAUoQFnoECAAQAg&amp;usg=AOvVaw2dIpCDvgbZ_wAFYy6v-eJ5\"><h3 class=\"zBAuLc l97dzf\"><div class=\"BNeawe vvjwJb AP7Wnd\">A multimillion-year-old record of Greenland vegetation and glacial ...</div></h3><div class=\"BNeawe UPmit AP7Wnd\">www.pnas.org › content</div></a>\n",
            "<a href=\"/url?q=https://www.sciencealert.com/preserved-plant-matter-has-been-discovered-buried-beneath-the-greenland-ice&amp;sa=U&amp;ved=2ahUKEwjy8t-W0t72AhVeoHIEHWgnAUoQFnoECAIQAg&amp;usg=AOvVaw0UQObcD80IMjwGBD65EtZM\"><h3 class=\"zBAuLc l97dzf\"><div class=\"BNeawe vvjwJb AP7Wnd\">Ancient Plants Buried a Mile Under Greenland's Ice Are a Grim ...</div></h3><div class=\"BNeawe UPmit AP7Wnd\">www.sciencealert.com › preserved-plant-matter-has-been-discovered-burie...</div></a>\n",
            "<a class=\"Q71vJc\" href=\"/search?ie=UTF-8&amp;q=What+can+ice+cores+tell+scientists+about+the+past+environments&amp;sa=X&amp;ved=2ahUKEwjy8t-W0t72AhVeoHIEHWgnAUoQ1QJ6BAgEEAI\"><accordion-entry-search-icon><span class=\"ieB2Dd\"><img alt=\"\" class=\"OEaqif\" data-deferred=\"1\" id=\"dimg_1\" src=\"data:image/gif;base64,R0lGODlhAQABAIAAAP///////yH5BAEKAAEALAAAAAABAAEAAAICTAEAOw==\" style=\"max-width:20px;max-height:20px\"/></span></accordion-entry-search-icon><div class=\"kjGX2\"><span><div class=\"BNeawe s3v9rd AP7Wnd lRVwie\">What can ice cores tell scientists about the past environments</div></span></div></a>\n",
            "<a class=\"Q71vJc\" href=\"/search?ie=UTF-8&amp;q=Greenland+ice+sheet&amp;sa=X&amp;ved=2ahUKEwjy8t-W0t72AhVeoHIEHWgnAUoQ1QJ6BAgEEAQ\"><accordion-entry-search-icon><span class=\"ieB2Dd\"><img alt=\"\" class=\"OEaqif\" data-deferred=\"1\" id=\"dimg_3\" src=\"data:image/gif;base64,R0lGODlhAQABAIAAAP///////yH5BAEKAAEALAAAAAABAAEAAAICTAEAOw==\" style=\"max-width:20px;max-height:20px\"/></span></accordion-entry-search-icon><div class=\"kjGX2\"><span><div class=\"BNeawe s3v9rd AP7Wnd lRVwie\">Greenland ice sheet</div></span></div></a>\n",
            "<a class=\"Q71vJc\" href=\"/search?ie=UTF-8&amp;q=Ice+sheet+animals&amp;sa=X&amp;ved=2ahUKEwjy8t-W0t72AhVeoHIEHWgnAUoQ1QJ6BAgEEAY\"><accordion-entry-search-icon><span class=\"ieB2Dd\"><img alt=\"\" class=\"OEaqif\" data-deferred=\"1\" id=\"dimg_5\" src=\"data:image/gif;base64,R0lGODlhAQABAIAAAP///////yH5BAEKAAEALAAAAAABAAEAAAICTAEAOw==\" style=\"max-width:20px;max-height:20px\"/></span></accordion-entry-search-icon><div class=\"kjGX2\"><span><div class=\"BNeawe s3v9rd AP7Wnd lRVwie\">Ice sheet animals</div></span></div></a>\n",
            "<a class=\"Q71vJc\" href=\"/search?ie=UTF-8&amp;q=what+is+the+ice%E2%80%90albedo+positive+feedback+currently+causing%3F&amp;sa=X&amp;ved=2ahUKEwjy8t-W0t72AhVeoHIEHWgnAUoQ1QJ6BAgEEAg\"><accordion-entry-search-icon><span class=\"ieB2Dd\"><img alt=\"\" class=\"OEaqif\" data-deferred=\"1\" id=\"dimg_7\" src=\"data:image/gif;base64,R0lGODlhAQABAIAAAP///////yH5BAEKAAEALAAAAAABAAEAAAICTAEAOw==\" style=\"max-width:20px;max-height:20px\"/></span></accordion-entry-search-icon><div class=\"kjGX2\"><span><div class=\"BNeawe s3v9rd AP7Wnd lRVwie\">what is the ice‐albedo positive feedback currently causing?</div></span></div></a>\n",
            "<a class=\"Q71vJc\" href=\"/search?ie=UTF-8&amp;q=Frozen+fossils&amp;sa=X&amp;ved=2ahUKEwjy8t-W0t72AhVeoHIEHWgnAUoQ1QJ6BAgEEAo\"><accordion-entry-search-icon><span class=\"ieB2Dd\"><img alt=\"\" class=\"OEaqif\" data-deferred=\"1\" id=\"dimg_9\" src=\"data:image/gif;base64,R0lGODlhAQABAIAAAP///////yH5BAEKAAEALAAAAAABAAEAAAICTAEAOw==\" style=\"max-width:20px;max-height:20px\"/></span></accordion-entry-search-icon><div class=\"kjGX2\"><span><div class=\"BNeawe s3v9rd AP7Wnd lRVwie\">Frozen fossils</div></span></div></a>\n",
            "<a class=\"Q71vJc\" href=\"/search?ie=UTF-8&amp;q=Gizmo&amp;sa=X&amp;ved=2ahUKEwjy8t-W0t72AhVeoHIEHWgnAUoQ1QJ6BAgEEAw\"><accordion-entry-search-icon><span class=\"ieB2Dd\"><img alt=\"\" class=\"OEaqif\" data-deferred=\"1\" id=\"dimg_11\" src=\"data:image/gif;base64,R0lGODlhAQABAIAAAP///////yH5BAEKAAEALAAAAAABAAEAAAICTAEAOw==\" style=\"max-width:20px;max-height:20px\"/></span></accordion-entry-search-icon><div class=\"kjGX2\"><span><div class=\"BNeawe s3v9rd AP7Wnd lRVwie\">Gizmo</div></span></div></a>\n",
            "<a class=\"Q71vJc\" href=\"/search?ie=UTF-8&amp;q=the+first+(oldest)+fossils+of+land+animals+are+found+in+rocks+from+the&amp;sa=X&amp;ved=2ahUKEwjy8t-W0t72AhVeoHIEHWgnAUoQ1QJ6BAgEEA4\"><accordion-entry-search-icon><span class=\"ieB2Dd\"><img alt=\"\" class=\"OEaqif\" data-deferred=\"1\" id=\"dimg_13\" src=\"data:image/gif;base64,R0lGODlhAQABAIAAAP///////yH5BAEKAAEALAAAAAABAAEAAAICTAEAOw==\" style=\"max-width:20px;max-height:20px\"/></span></accordion-entry-search-icon><div class=\"kjGX2\"><span><div class=\"BNeawe s3v9rd AP7Wnd lRVwie\">the first (oldest) fossils of land animals are found in rocks from the</div></span></div></a>\n",
            "<a class=\"Q71vJc\" href=\"/search?ie=UTF-8&amp;q=Scientists+have+studied+glaciers+in+greenland+as+evidence+of+global+warming&amp;sa=X&amp;ved=2ahUKEwjy8t-W0t72AhVeoHIEHWgnAUoQ1QJ6BAgEEBA\"><accordion-entry-search-icon><span class=\"ieB2Dd\"><img alt=\"\" class=\"OEaqif\" data-deferred=\"1\" id=\"dimg_15\" src=\"data:image/gif;base64,R0lGODlhAQABAIAAAP///////yH5BAEKAAEALAAAAAABAAEAAAICTAEAOw==\" style=\"max-width:20px;max-height:20px\"/></span></accordion-entry-search-icon><div class=\"kjGX2\"><span><div class=\"BNeawe s3v9rd AP7Wnd lRVwie\">Scientists have studied glaciers in greenland as evidence of global warming</div></span></div></a>\n",
            "<a aria-label=\"Next page\" class=\"nBDE1b G5eFlf\" href=\"/search?q=There+are+fossilized+plants+in+Greenland+under+1.4+km+of+ice&amp;ie=UTF-8&amp;ei=tVU8YrLEO97AytMP6M6E0AQ&amp;start=10&amp;sa=N\">Next &gt;</a>\n",
            "<a href=\"/url?q=https://support.google.com/websearch%3Fp%3Dws_settings_location%26hl%3Den&amp;sa=U&amp;ved=0ahUKEwjy8t-W0t72AhVeoHIEHWgnAUoQty4InwE&amp;usg=AOvVaw3mZPaE54yxI8KRNKxt5HyJ\">Learn more</a>\n",
            "<a href=\"/url?q=https://accounts.google.com/ServiceLogin%3Fcontinue%3Dhttps://www.google.com/search%253Fq%253DThere%252Bare%252Bfossilized%252Bplants%252Bin%252BGreenland%252Bunder%252B1.4%252Bkm%252Bof%252Bice%2526sclient%253Dimg%26hl%3Den&amp;sa=U&amp;ved=0ahUKEwjy8t-W0t72AhVeoHIEHWgnAUoQxs8CCKAB&amp;usg=AOvVaw3-tgvJ6xdgZ08VUH6RZ-wR\">Sign in</a>\n",
            "<a class=\"xeDNfc\" href=\"https://www.google.com/preferences?hl=en&amp;fg=1&amp;sa=X&amp;ved=0ahUKEwjy8t-W0t72AhVeoHIEHWgnAUoQ5fUCCKEB\">Settings</a>\n",
            "<a class=\"xeDNfc\" href=\"https://policies.google.com/privacy?hl=en&amp;fg=1\">Privacy</a>\n",
            "<a class=\"xeDNfc\" href=\"https://policies.google.com/terms?hl=en&amp;fg=1\">Terms</a>\n"
          ]
        }
      ]
    },
    {
      "cell_type": "code",
      "source": [
        "data = soup.select('a')[0]\n",
        "for i in data:\n",
        "  print(i)"
      ],
      "metadata": {
        "colab": {
          "base_uri": "https://localhost:8080/"
        },
        "id": "ZfDEkhfCJWSF",
        "outputId": "1d3e1790-d774-4793-e41c-8737cbc9470f"
      },
      "execution_count": null,
      "outputs": [
        {
          "output_type": "stream",
          "name": "stdout",
          "text": [
            "<span class=\"V6gwVd\">G</span>\n",
            "<span class=\"iWkuvd\">o</span>\n",
            "<span class=\"cDrQ7\">o</span>\n",
            "<span class=\"V6gwVd\">g</span>\n",
            "<span class=\"ntlR9\">l</span>\n",
            "<span class=\"iWkuvd tJ3Myc\">e</span>\n"
          ]
        }
      ]
    }
  ]
}